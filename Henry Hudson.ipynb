{
 "cells": [
  {
   "cell_type": "code",
   "execution_count": null,
   "id": "fea94a63",
   "metadata": {},
   "outputs": [],
   "source": [
    "#pip install Pypdf2"
   ]
  },
  {
   "cell_type": "code",
   "execution_count": 22,
   "id": "d9ab1fc8",
   "metadata": {},
   "outputs": [],
   "source": [
    "import PyPDF2 as pdf"
   ]
  },
  {
   "cell_type": "code",
   "execution_count": 23,
   "id": "f7aef2f8",
   "metadata": {},
   "outputs": [],
   "source": [
    "file = open('HenryHudson.pdf', 'rb')"
   ]
  },
  {
   "cell_type": "code",
   "execution_count": 24,
   "id": "a69e20cc",
   "metadata": {},
   "outputs": [
    {
     "data": {
      "text/plain": [
       "<_io.BufferedReader name='HenryHudson.pdf'>"
      ]
     },
     "execution_count": 24,
     "metadata": {},
     "output_type": "execute_result"
    }
   ],
   "source": [
    "file"
   ]
  },
  {
   "cell_type": "code",
   "execution_count": 25,
   "id": "157b461a",
   "metadata": {},
   "outputs": [],
   "source": [
    "pdf_reader = pdf.PdfReader(file)"
   ]
  },
  {
   "cell_type": "code",
   "execution_count": 26,
   "id": "73a8fe04",
   "metadata": {},
   "outputs": [
    {
     "data": {
      "text/plain": [
       "<PyPDF2._reader.PdfReader at 0x2f8cc6195b0>"
      ]
     },
     "execution_count": 26,
     "metadata": {},
     "output_type": "execute_result"
    }
   ],
   "source": [
    "pdf_reader"
   ]
  },
  {
   "cell_type": "code",
   "execution_count": 27,
   "id": "4c6abee5",
   "metadata": {},
   "outputs": [
    {
     "name": "stdout",
     "output_type": "stream",
     "text": [
      "Help on PdfReader in module PyPDF2._reader object:\n",
      "\n",
      "class PdfReader(builtins.object)\n",
      " |  PdfReader(stream: Union[str, _io.BytesIO, _io.BufferedReader, _io.BufferedWriter, _io.FileIO, pathlib.Path], strict: bool = False, password: Union[NoneType, str, bytes] = None) -> None\n",
      " |  \n",
      " |  Initialize a PdfReader object.\n",
      " |  \n",
      " |  This operation can take some time, as the PDF stream's cross-reference\n",
      " |  tables are read into memory.\n",
      " |  \n",
      " |  :param stream: A File object or an object that supports the standard read\n",
      " |      and seek methods similar to a File object. Could also be a\n",
      " |      string representing a path to a PDF file.\n",
      " |  :param bool strict: Determines whether user should be warned of all\n",
      " |      problems and also causes some correctable problems to be fatal.\n",
      " |      Defaults to ``False``.\n",
      " |  :param None/str/bytes password: Decrypt PDF file at initialization. If the\n",
      " |      password is None, the file will not be decrypted.\n",
      " |      Defaults to ``None``\n",
      " |  \n",
      " |  Methods defined here:\n",
      " |  \n",
      " |  __init__(self, stream: Union[str, _io.BytesIO, _io.BufferedReader, _io.BufferedWriter, _io.FileIO, pathlib.Path], strict: bool = False, password: Union[NoneType, str, bytes] = None) -> None\n",
      " |      Initialize self.  See help(type(self)) for accurate signature.\n",
      " |  \n",
      " |  cacheGetIndirectObject(self, generation: int, idnum: int) -> Optional[PyPDF2.generic._base.PdfObject]\n",
      " |      .. deprecated:: 1.28.0\n",
      " |      \n",
      " |          Use :meth:`cache_get_indirect_object` instead.\n",
      " |  \n",
      " |  cacheIndirectObject(self, generation: int, idnum: int, obj: Optional[PyPDF2.generic._base.PdfObject]) -> Optional[PyPDF2.generic._base.PdfObject]\n",
      " |      .. deprecated:: 1.28.0\n",
      " |      \n",
      " |          Use :meth:`cache_indirect_object` instead.\n",
      " |  \n",
      " |  cache_get_indirect_object(self, generation: int, idnum: int) -> Optional[PyPDF2.generic._base.PdfObject]\n",
      " |  \n",
      " |  cache_indirect_object(self, generation: int, idnum: int, obj: Optional[PyPDF2.generic._base.PdfObject]) -> Optional[PyPDF2.generic._base.PdfObject]\n",
      " |  \n",
      " |  decode_permissions(self, permissions_code: int) -> Dict[str, bool]\n",
      " |  \n",
      " |  decrypt(self, password: Union[str, bytes]) -> PyPDF2._encryption.PasswordType\n",
      " |      When using an encrypted / secured PDF file with the PDF Standard\n",
      " |      encryption handler, this function will allow the file to be decrypted.\n",
      " |      It checks the given password against the document's user password and\n",
      " |      owner password, and then stores the resulting decryption key if either\n",
      " |      password is correct.\n",
      " |      \n",
      " |      It does not matter which password was matched.  Both passwords provide\n",
      " |      the correct decryption key that will allow the document to be used with\n",
      " |      this library.\n",
      " |      \n",
      " |      :param str password: The password to match.\n",
      " |      :return: `PasswordType`.\n",
      " |  \n",
      " |  getDestinationPageNumber(self, destination: PyPDF2.generic._data_structures.Destination) -> int\n",
      " |      .. deprecated:: 1.28.0\n",
      " |      \n",
      " |          Use :meth:`get_destination_page_number` instead.\n",
      " |  \n",
      " |  getDocumentInfo(self) -> Optional[PyPDF2._reader.DocumentInformation]\n",
      " |      .. deprecated:: 1.28.0\n",
      " |      \n",
      " |          Use the attribute :py:attr:`metadata` instead.\n",
      " |  \n",
      " |  getFields(self, tree: Optional[PyPDF2.generic._data_structures.TreeObject] = None, retval: Optional[Dict[Any, Any]] = None, fileobj: Optional[Any] = None) -> Optional[Dict[str, Any]]\n",
      " |      .. deprecated:: 1.28.0\n",
      " |      \n",
      " |          Use :meth:`get_fields` instead.\n",
      " |  \n",
      " |  getFormTextFields(self) -> Dict[str, Any]\n",
      " |      .. deprecated:: 1.28.0\n",
      " |      \n",
      " |          Use :meth:`get_form_text_fields` instead.\n",
      " |  \n",
      " |  getIsEncrypted(self) -> bool\n",
      " |      .. deprecated:: 1.28.0\n",
      " |      \n",
      " |          Use :py:attr:`is_encrypted` instead.\n",
      " |  \n",
      " |  getNamedDestinations(self, tree: Optional[PyPDF2.generic._data_structures.TreeObject] = None, retval: Optional[Any] = None) -> Dict[str, Any]\n",
      " |      .. deprecated:: 1.28.0\n",
      " |      \n",
      " |          Use :py:attr:`named_destinations` instead.\n",
      " |  \n",
      " |  getNumPages(self) -> int\n",
      " |      .. deprecated:: 1.28.0\n",
      " |      \n",
      " |          Use :code:`len(reader.pages)` instead.\n",
      " |  \n",
      " |  getObject(self, indirectReference: PyPDF2.generic._base.IndirectObject) -> Optional[PyPDF2.generic._base.PdfObject]\n",
      " |      .. deprecated:: 1.28.0\n",
      " |      \n",
      " |          Use :meth:`get_object` instead.\n",
      " |  \n",
      " |  getOutlines(self, node: Optional[PyPDF2.generic._data_structures.DictionaryObject] = None, outline: Optional[Any] = None) -> List[Union[PyPDF2.generic._data_structures.Destination, List[Union[PyPDF2.generic._data_structures.Destination, List[PyPDF2.generic._data_structures.Destination]]]]]\n",
      " |      .. deprecated:: 1.28.0\n",
      " |      \n",
      " |          Use :py:attr:`outline` instead.\n",
      " |  \n",
      " |  getPage(self, pageNumber: int) -> PyPDF2._page.PageObject\n",
      " |      .. deprecated:: 1.28.0\n",
      " |      \n",
      " |          Use :code:`reader.pages[pageNumber]` instead.\n",
      " |  \n",
      " |  getPageLayout(self) -> Optional[str]\n",
      " |      .. deprecated:: 1.28.0\n",
      " |      \n",
      " |          Use :py:attr:`page_layout` instead.\n",
      " |  \n",
      " |  getPageMode(self) -> Optional[Literal['/UseNone', '/UseOutlines', '/UseThumbs', '/FullScreen', '/UseOC', '/UseAttachments']]\n",
      " |      .. deprecated:: 1.28.0\n",
      " |      \n",
      " |          Use :py:attr:`page_mode` instead.\n",
      " |  \n",
      " |  getPageNumber(self, page: PyPDF2._page.PageObject) -> int\n",
      " |      .. deprecated:: 1.28.0\n",
      " |      \n",
      " |          Use :meth:`get_page_number` instead.\n",
      " |  \n",
      " |  getXmpMetadata(self) -> Optional[PyPDF2.xmp.XmpInformation]\n",
      " |      .. deprecated:: 1.28.0\n",
      " |      \n",
      " |          Use the attribute :py:attr:`xmp_metadata` instead.\n",
      " |  \n",
      " |  get_destination_page_number(self, destination: PyPDF2.generic._data_structures.Destination) -> int\n",
      " |      Retrieve page number of a given Destination object.\n",
      " |      \n",
      " |      :param Destination destination: The destination to get page number.\n",
      " |      :return: the page number or -1 if page not found\n",
      " |  \n",
      " |  get_fields(self, tree: Optional[PyPDF2.generic._data_structures.TreeObject] = None, retval: Optional[Dict[Any, Any]] = None, fileobj: Optional[Any] = None) -> Optional[Dict[str, Any]]\n",
      " |      Extract field data if this PDF contains interactive form fields.\n",
      " |      \n",
      " |      The *tree* and *retval* parameters are for recursive use.\n",
      " |      \n",
      " |      :param fileobj: A file object (usually a text file) to write\n",
      " |          a report to on all interactive form fields found.\n",
      " |      :return: A dictionary where each key is a field name, and each\n",
      " |          value is a :class:`Field<PyPDF2.generic.Field>` object. By\n",
      " |          default, the mapping name is used for keys.\n",
      " |          ``None`` if form data could not be located.\n",
      " |  \n",
      " |  get_form_text_fields(self) -> Dict[str, Any]\n",
      " |      Retrieve form fields from the document with textual data.\n",
      " |      \n",
      " |      The key is the name of the form field, the value is the content of the\n",
      " |      field.\n",
      " |      \n",
      " |      If the document contains multiple form fields with the same name, the\n",
      " |      second and following will get the suffix _2, _3, ...\n",
      " |  \n",
      " |  get_object(self, indirect_reference: PyPDF2.generic._base.IndirectObject) -> Optional[PyPDF2.generic._base.PdfObject]\n",
      " |  \n",
      " |  get_page_number(self, page: PyPDF2._page.PageObject) -> int\n",
      " |      Retrieve page number of a given PageObject\n",
      " |      \n",
      " |      :param PageObject page: The page to get page number. Should be\n",
      " |          an instance of :class:`PageObject<PyPDF2._page.PageObject>`\n",
      " |      :return: the page number or -1 if page not found\n",
      " |  \n",
      " |  read(self, stream: Union[_io.BytesIO, _io.BufferedReader, _io.BufferedWriter, _io.FileIO]) -> None\n",
      " |  \n",
      " |  readNextEndLine(self, stream: Union[_io.BytesIO, _io.BufferedReader, _io.BufferedWriter, _io.FileIO], limit_offset: int = 0) -> bytes\n",
      " |      .. deprecated:: 1.28.0\n",
      " |  \n",
      " |  readObjectHeader(self, stream: Union[_io.BytesIO, _io.BufferedReader, _io.BufferedWriter, _io.FileIO]) -> Tuple[int, int]\n",
      " |      .. deprecated:: 1.28.0\n",
      " |      \n",
      " |          Use :meth:`read_object_header` instead.\n",
      " |  \n",
      " |  read_next_end_line(self, stream: Union[_io.BytesIO, _io.BufferedReader, _io.BufferedWriter, _io.FileIO], limit_offset: int = 0) -> bytes\n",
      " |      .. deprecated:: 2.1.0\n",
      " |  \n",
      " |  read_object_header(self, stream: Union[_io.BytesIO, _io.BufferedReader, _io.BufferedWriter, _io.FileIO]) -> Tuple[int, int]\n",
      " |  \n",
      " |  ----------------------------------------------------------------------\n",
      " |  Readonly properties defined here:\n",
      " |  \n",
      " |  documentInfo\n",
      " |      .. deprecated:: 1.28.0\n",
      " |      \n",
      " |          Use the attribute :py:attr:`metadata` instead.\n",
      " |  \n",
      " |  isEncrypted\n",
      " |      .. deprecated:: 1.28.0\n",
      " |      \n",
      " |          Use :py:attr:`is_encrypted` instead.\n",
      " |  \n",
      " |  is_encrypted\n",
      " |      Read-only boolean property showing whether this PDF file is encrypted.\n",
      " |      Note that this property, if true, will remain true even after the\n",
      " |      :meth:`decrypt()<PyPDF2.PdfReader.decrypt>` method is called.\n",
      " |  \n",
      " |  metadata\n",
      " |      Retrieve the PDF file's document information dictionary, if it exists.\n",
      " |      Note that some PDF files use metadata streams instead of docinfo\n",
      " |      dictionaries, and these metadata streams will not be accessed by this\n",
      " |      function.\n",
      " |      \n",
      " |      :return: the document information of this PDF file\n",
      " |  \n",
      " |  namedDestinations\n",
      " |      .. deprecated:: 1.28.0\n",
      " |      \n",
      " |          Use :py:attr:`named_destinations` instead.\n",
      " |  \n",
      " |  named_destinations\n",
      " |      A read-only dictionary which maps names to\n",
      " |      :class:`Destinations<PyPDF2.generic.Destination>`\n",
      " |  \n",
      " |  numPages\n",
      " |      .. deprecated:: 1.28.0\n",
      " |      \n",
      " |          Use :code:`len(reader.pages)` instead.\n",
      " |  \n",
      " |  outline\n",
      " |      Read-only property for the outline (i.e., a collection of 'outline items'\n",
      " |      which are also known as 'bookmarks') present in the document.\n",
      " |      \n",
      " |      :return: a nested list of :class:`Destinations<PyPDF2.generic.Destination>`.\n",
      " |  \n",
      " |  outlines\n",
      " |      .. deprecated:: 2.9.0\n",
      " |      \n",
      " |          Use :py:attr:`outline` instead.\n",
      " |  \n",
      " |  pageLayout\n",
      " |      .. deprecated:: 1.28.0\n",
      " |      \n",
      " |          Use :py:attr:`page_layout` instead.\n",
      " |  \n",
      " |  pageMode\n",
      " |      .. deprecated:: 1.28.0\n",
      " |      \n",
      " |          Use :py:attr:`page_mode` instead.\n",
      " |  \n",
      " |  page_layout\n",
      " |      Get the page layout.\n",
      " |      \n",
      " |      :return: Page layout currently being used.\n",
      " |      \n",
      " |      .. list-table:: Valid ``layout`` values\n",
      " |         :widths: 50 200\n",
      " |      \n",
      " |         * - /NoLayout\n",
      " |           - Layout explicitly not specified\n",
      " |         * - /SinglePage\n",
      " |           - Show one page at a time\n",
      " |         * - /OneColumn\n",
      " |           - Show one column at a time\n",
      " |         * - /TwoColumnLeft\n",
      " |           - Show pages in two columns, odd-numbered pages on the left\n",
      " |         * - /TwoColumnRight\n",
      " |           - Show pages in two columns, odd-numbered pages on the right\n",
      " |         * - /TwoPageLeft\n",
      " |           - Show two pages at a time, odd-numbered pages on the left\n",
      " |         * - /TwoPageRight\n",
      " |           - Show two pages at a time, odd-numbered pages on the right\n",
      " |  \n",
      " |  page_mode\n",
      " |      Get the page mode.\n",
      " |      \n",
      " |      :return: Page mode currently being used.\n",
      " |      \n",
      " |      .. list-table:: Valid ``mode`` values\n",
      " |         :widths: 50 200\n",
      " |      \n",
      " |         * - /UseNone\n",
      " |           - Do not show outline or thumbnails panels\n",
      " |         * - /UseOutlines\n",
      " |           - Show outline (aka bookmarks) panel\n",
      " |         * - /UseThumbs\n",
      " |           - Show page thumbnails panel\n",
      " |         * - /FullScreen\n",
      " |           - Fullscreen view\n",
      " |         * - /UseOC\n",
      " |           - Show Optional Content Group (OCG) panel\n",
      " |         * - /UseAttachments\n",
      " |           - Show attachments panel\n",
      " |  \n",
      " |  pages\n",
      " |      Read-only property that emulates a list of :py:class:`Page<PyPDF2._page.Page>` objects.\n",
      " |  \n",
      " |  pdf_header\n",
      " |  \n",
      " |  xfa\n",
      " |  \n",
      " |  xmpMetadata\n",
      " |      .. deprecated:: 1.28.0\n",
      " |      \n",
      " |          Use the attribute :py:attr:`xmp_metadata` instead.\n",
      " |  \n",
      " |  xmp_metadata\n",
      " |      XMP (Extensible Metadata Platform) data\n",
      " |      \n",
      " |      :return: a :class:`XmpInformation<xmp.XmpInformation>`\n",
      " |          instance that can be used to access XMP metadata from the document.\n",
      " |          or ``None`` if no metadata was found on the document root.\n",
      " |  \n",
      " |  ----------------------------------------------------------------------\n",
      " |  Data descriptors defined here:\n",
      " |  \n",
      " |  __dict__\n",
      " |      dictionary for instance variables (if defined)\n",
      " |  \n",
      " |  __weakref__\n",
      " |      list of weak references to the object (if defined)\n",
      "\n"
     ]
    }
   ],
   "source": [
    "help(pdf_reader)"
   ]
  },
  {
   "cell_type": "code",
   "execution_count": 28,
   "id": "35e4c482",
   "metadata": {},
   "outputs": [
    {
     "data": {
      "text/plain": [
       "7"
      ]
     },
     "execution_count": 28,
     "metadata": {},
     "output_type": "execute_result"
    }
   ],
   "source": [
    "pdf_reader.getNumPages()"
   ]
  },
  {
   "cell_type": "code",
   "execution_count": 29,
   "id": "088ae644",
   "metadata": {},
   "outputs": [],
   "source": [
    "page1 = pdf_reader.getPage(0)"
   ]
  },
  {
   "cell_type": "code",
   "execution_count": 30,
   "id": "8246f393",
   "metadata": {},
   "outputs": [
    {
     "data": {
      "text/plain": [
       "\"Name: ______________________________\\nHenry Hudson\\nby Kelly Hashway\\nBefore planes, people traveled by boat. And getting goods\\nfrom one place to another took a long time, especially when ships had\\nto sail around continents. In the early 1600s, European trading\\ncompanies were looking for faster routes to sail to India and Asia. \\nIn 1607, British explorer Henry Hudson led two failed voyages to\\nfind a northeast passage across the Arctic Ocean to Asia. He was searching for a route above the \\nArctic Circle, and his biggest problem was navigating around icebergs, which blocked his path. After \\nfailing twice, Hudson couldn’t get a British company to fund his next voyage. He had to persuade the \\nDutch East India Company to back his third expedition.\\nHudson left Amsterdam on April 4, 1609 aboard a ship named the Half Moon. Once again he was\\nsearching for a northern water passage, and just like on his previous trips, icebergs blocked his path and\\nmade his crew threaten mutiny. Hudson soon realized that a northeast passage across the Arctic would \\nbe nearly impossible. He decided to change directions and search for a water route to Asia through the\\nNew World instead. Hudson and the Half Moon's crew headed southwest across the Atlantic Ocean to \\nAmerica.\\nAfter several months, Hudson landed on small islands near Newfoundland, Canada. He sailed the\\nHalf Moon along the coast in search of a northwest passage across the continent of North America. He \\narrived in the New York Harbor and sailed up a body of water that is now named the Hudson River. He \\nthought the river might lead to the Pacific Ocean. But he was wrong, and he was forced to turn back to\\nEurope. He had explored new lands, but did not find a route to Asia.\\nHudson made one final attempt in 1610, on a new ship named Discovery. He sailed Discovery \\nacross the northern Atlantic, along the coast of Greenland, and into Canada. He discovered a large \\nSuper Teacher Worksheets   -    www.superteacherworksheets.com\\n\""
      ]
     },
     "execution_count": 30,
     "metadata": {},
     "output_type": "execute_result"
    }
   ],
   "source": [
    "page1.extractText()"
   ]
  },
  {
   "cell_type": "code",
   "execution_count": 31,
   "id": "68b8f376",
   "metadata": {},
   "outputs": [],
   "source": [
    "page2 = pdf_reader.getPage(1)"
   ]
  },
  {
   "cell_type": "code",
   "execution_count": 32,
   "id": "e39e4c9a",
   "metadata": {},
   "outputs": [
    {
     "data": {
      "text/plain": [
       "\"body of water that became known as Hudson Bay. Unfortunately, the Hudson Bay did not lead to Asia. \\nFurthermore, Hudson's luck had run out. Winter weather hit the region and Discovery had become \\ntrapped in thick ice. Hudson's crew became angry. They wanted to return to Europe, but Hudson \\nwanted to continue searching for a passage to Asia. When spring came, the crew revolted and took \\ncontrol of the ship. They put Hudson, his son, and a few men who stayed loyal to Hudson on a small \\nboat somewhere in Hudson Bay. The crew sailed Discovery back to Europe and Henry Hudson was \\nnever seen again.\\nAlthough Henry Hudson failed his attempts to find a northern water route to Asia, he is credited \\nwith being the first European to sail up the Hudson River. He also claimed new land for the Netherlands \\nand had several areas named after him, including the Hudson River, Hudson Bay, the Henry Hudson \\nBridge, and Hudson County in New Jersey.\\nSuper Teacher Worksheets   -    www.superteacherworksheets.com\\n\""
      ]
     },
     "execution_count": 32,
     "metadata": {},
     "output_type": "execute_result"
    }
   ],
   "source": [
    "page2.extractText()"
   ]
  },
  {
   "cell_type": "markdown",
   "id": "66f0c83e",
   "metadata": {},
   "source": [
    "   Append Write or Merge PDFs"
   ]
  },
  {
   "cell_type": "code",
   "execution_count": 33,
   "id": "271d8866",
   "metadata": {},
   "outputs": [],
   "source": [
    "pdf_writer = pdf.PdfFileWriter()"
   ]
  },
  {
   "cell_type": "code",
   "execution_count": 34,
   "id": "83048d91",
   "metadata": {},
   "outputs": [],
   "source": [
    "pdf_writer.addPage(page1)\n",
    "pdf_writer.addPage(page2)"
   ]
  },
  {
   "cell_type": "code",
   "execution_count": 35,
   "id": "da78618f",
   "metadata": {},
   "outputs": [],
   "source": [
    "output = open('Pages.pdf', 'wb')\n",
    "pdf_writer.write(output)\n",
    "output.close()"
   ]
  },
  {
   "cell_type": "code",
   "execution_count": null,
   "id": "41c57cf3",
   "metadata": {},
   "outputs": [],
   "source": []
  }
 ],
 "metadata": {
  "kernelspec": {
   "display_name": "Python 3 (ipykernel)",
   "language": "python",
   "name": "python3"
  },
  "language_info": {
   "codemirror_mode": {
    "name": "ipython",
    "version": 3
   },
   "file_extension": ".py",
   "mimetype": "text/x-python",
   "name": "python",
   "nbconvert_exporter": "python",
   "pygments_lexer": "ipython3",
   "version": "3.9.12"
  }
 },
 "nbformat": 4,
 "nbformat_minor": 5
}
